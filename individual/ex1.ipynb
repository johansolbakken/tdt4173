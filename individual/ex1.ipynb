{
 "cells": [
  {
   "cell_type": "markdown",
   "id": "f257a422",
   "metadata": {},
   "source": [
    "# Exercise 1: Prediction Models"
   ]
  },
  {
   "cell_type": "markdown",
   "id": "baabf0d7",
   "metadata": {},
   "source": [
    "You will practice the basic steps to fit and to use a machine learning model."
   ]
  },
  {
   "cell_type": "code",
   "execution_count": 1,
   "id": "e528a8ff",
   "metadata": {},
   "outputs": [],
   "source": [
    "# import packages\n",
    "import pandas as pd\n",
    "import numpy as np\n",
    "from sklearn.model_selection import train_test_split, GridSearchCV\n",
    "from sklearn.metrics import accuracy_score, precision_score, recall_score, f1_score\n",
    "import xgboost as xgb"
   ]
  },
  {
   "cell_type": "code",
   "execution_count": 2,
   "id": "4fea197e",
   "metadata": {},
   "outputs": [],
   "source": [
    "# Load data\n",
    "X_train = pd.read_csv(\"ex1_train.csv\", header=None)\n",
    "X_test = pd.read_csv(\"ex1_test.csv\", header=None)\n",
    "y_train = pd.read_csv(\"ex1_class_train.csv\", header=None)\n",
    "y_test = pd.read_csv(\"ex1_class_test.csv\", header=None)"
   ]
  },
  {
   "cell_type": "markdown",
   "id": "12f66bea",
   "metadata": {},
   "source": [
    "# Part 1: Default XGBoost Classifier"
   ]
  },
  {
   "cell_type": "markdown",
   "id": "4d244519",
   "metadata": {},
   "source": [
    "**TODO: Fit the model and predict for test data in the following cell**"
   ]
  },
  {
   "cell_type": "code",
   "execution_count": 3,
   "id": "d0085c19",
   "metadata": {},
   "outputs": [],
   "source": [
    "# 1) Create an XGBoost classifier instance\n",
    "xgb_classifier = xgb.XGBClassifier()\n",
    "\n",
    "# 2) Fit the classifier using X_train and y_train\n",
    "xgb_classifier.fit(X_train, y_train)\n",
    "\n",
    "# 3) Make prediction over X_test\n",
    "y_pred_default = xgb_classifier.predict(X_test)"
   ]
  },
  {
   "cell_type": "code",
   "execution_count": 4,
   "id": "ad675082",
   "metadata": {},
   "outputs": [
    {
     "name": "stdout",
     "output_type": "stream",
     "text": [
      "Default Model Performance:\n",
      "Accuracy: 0.7032\n",
      "Precision: 0.7216\n",
      "Recall: 0.7186\n",
      "F1 Score: 0.7201\n"
     ]
    }
   ],
   "source": [
    "# Evaluate the default model\n",
    "accuracy_default = accuracy_score(y_test, y_pred_default)\n",
    "precision_default = precision_score(y_test, y_pred_default)\n",
    "recall_default = recall_score(y_test, y_pred_default)\n",
    "f1_default = f1_score(y_test, y_pred_default)\n",
    "\n",
    "print(\"Default Model Performance:\")\n",
    "print(f\"Accuracy: {accuracy_default:.4f}\")\n",
    "print(f\"Precision: {precision_default:.4f}\")\n",
    "print(f\"Recall: {recall_default:.4f}\")\n",
    "print(f\"F1 Score: {f1_default:.4f}\")"
   ]
  },
  {
   "cell_type": "markdown",
   "id": "5b290c23",
   "metadata": {},
   "source": [
    "You should achieve F1 score>0.65 to pass Part 1."
   ]
  },
  {
   "cell_type": "markdown",
   "id": "94f1335f",
   "metadata": {},
   "source": [
    "# Part 2: Hyperparameter Tuning with Cross-Validation"
   ]
  },
  {
   "cell_type": "code",
   "execution_count": 5,
   "id": "84e99f71",
   "metadata": {},
   "outputs": [],
   "source": [
    "# Define candidate hyperparameters\n",
    "param_grid = {\n",
    "    'n_estimators': [100, 200, 300],\n",
    "    'max_depth': [3, 6, 9],\n",
    "    'learning_rate': [0.01, 0.1, 0.2]\n",
    "}"
   ]
  },
  {
   "cell_type": "markdown",
   "id": "65810539",
   "metadata": {},
   "source": [
    "**TODO: Find the best hyperparameters and use them to fit an improved classifier in the following cell**"
   ]
  },
  {
   "cell_type": "code",
   "execution_count": 6,
   "id": "3a870985",
   "metadata": {},
   "outputs": [],
   "source": [
    "# 1) use GridSearchCV to find the best hyperparameters\n",
    "grid_search = GridSearchCV(estimator=xgb_classifier, param_grid=param_grid)\n",
    "grid_search.fit(X_train, y_train)\n",
    "\n",
    "# 2) fit an XGBoost classifier using the best hyperparameters\n",
    "best_xgb_classifier = xgb.XGBClassifier(**grid_search.best_params_)\n",
    "best_xgb_classifier.fit(X_train, y_train)\n",
    "\n",
    "# 3) make prediction over X_test. The prediction output should be named y_pred_tuned\n",
    "y_pred_tuned = best_xgb_classifier.predict(X_test)"
   ]
  },
  {
   "cell_type": "code",
   "execution_count": 7,
   "id": "0d7a3b6c",
   "metadata": {},
   "outputs": [
    {
     "name": "stdout",
     "output_type": "stream",
     "text": [
      "Tuned Model Performance:\n",
      "Accuracy: 0.7186\n",
      "Precision: 0.7276\n",
      "Recall: 0.7519\n",
      "F1 Score: 0.7396\n",
      "Improvement in F1 Score: 0.0195\n"
     ]
    }
   ],
   "source": [
    "# Evaluate the tuned model\n",
    "accuracy_tuned = accuracy_score(y_test, y_pred_tuned)\n",
    "precision_tuned = precision_score(y_test, y_pred_tuned)\n",
    "recall_tuned = recall_score(y_test, y_pred_tuned)\n",
    "f1_tuned = f1_score(y_test, y_pred_tuned)\n",
    "\n",
    "print(\"Tuned Model Performance:\")\n",
    "print(f\"Accuracy: {accuracy_tuned:.4f}\")\n",
    "print(f\"Precision: {precision_tuned:.4f}\")\n",
    "print(f\"Recall: {recall_tuned:.4f}\")\n",
    "print(f\"F1 Score: {f1_tuned:.4f}\")\n",
    "\n",
    "# Analysis\n",
    "print(f\"Improvement in F1 Score: {f1_tuned - f1_default:.4f}\")"
   ]
  },
  {
   "cell_type": "markdown",
   "id": "42651ee3",
   "metadata": {},
   "source": [
    "To pass Part 2, your new F1 score should be higher 0.65 and the one in Part 1."
   ]
  },
  {
   "cell_type": "code",
   "execution_count": null,
   "id": "b1ed4795",
   "metadata": {},
   "outputs": [],
   "source": []
  }
 ],
 "metadata": {
  "kernelspec": {
   "display_name": "Python 3 (ipykernel)",
   "language": "python",
   "name": "python3"
  },
  "language_info": {
   "codemirror_mode": {
    "name": "ipython",
    "version": 3
   },
   "file_extension": ".py",
   "mimetype": "text/x-python",
   "name": "python",
   "nbconvert_exporter": "python",
   "pygments_lexer": "ipython3",
   "version": "3.12.4"
  }
 },
 "nbformat": 4,
 "nbformat_minor": 5
}
