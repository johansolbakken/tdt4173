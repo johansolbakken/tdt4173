{
 "cells": [
  {
   "cell_type": "code",
   "execution_count": null,
   "id": "8bc1752e-7e0b-4343-897b-b4087fac4c63",
   "metadata": {},
   "outputs": [],
   "source": [
    "import pandas as pd\n",
    "import xgboost as xgb\n",
    "import numpy as np\n",
    "\n",
    "# Read training data\n",
    "train_df = pd.read_csv('ais_train.csv', sep='|')\n",
    "\n",
    "# Read test data\n",
    "test_df = pd.read_csv('ais_test.csv', sep=',')\n",
    "\n",
    "# Define target variables\n",
    "y_lon = train_df['longitude']\n",
    "y_lat = train_df['latitude']\n",
    "\n",
    "# Drop target variables and 'ID' from features\n",
    "X_train = train_df.drop(['longitude', 'latitude', 'ID'], axis=1, errors='ignore')\n",
    "\n",
    "# Prepare test features\n",
    "test_ids = test_df['ID']  # Save IDs for submission\n",
    "X_test = test_df.drop(['ID'], axis=1, errors='ignore')\n",
    "\n",
    "# Combine train and test data to ensure consistent encoding\n",
    "combined = pd.concat([X_train, X_test], axis=0, ignore_index=True)\n",
    "\n",
    "# Handle categorical variables, if any\n",
    "# For simplicity, let's use get_dummies\n",
    "combined = pd.get_dummies(combined)\n",
    "\n",
    "# Split back into train and test features\n",
    "X_train = combined.iloc[:len(X_train), :]\n",
    "X_test = combined.iloc[len(X_train):, :]\n",
    "\n",
    "# Now, train the XGBoost models\n",
    "\n",
    "# For latitude\n",
    "model_lat = xgb.XGBRegressor()\n",
    "model_lat.fit(X_train, y_lat)\n",
    "\n",
    "# For longitude\n",
    "model_lon = xgb.XGBRegressor()\n",
    "model_lon.fit(X_train, y_lon)\n",
    "\n",
    "# Predict on test data\n",
    "predicted_lat = model_lat.predict(X_test)\n",
    "predicted_lon = model_lon.predict(X_test)\n",
    "\n",
    "# Create submission DataFrame\n",
    "submission_rows = []\n",
    "for idx, test_id in enumerate(test_ids):\n",
    "    submission_rows.append({\n",
    "        'ID': test_id,\n",
    "        'longitude_predicted': predicted_lon[idx],\n",
    "        'latitude_predicted': predicted_lat[idx]\n",
    "    })\n",
    "\n",
    "submission_df = pd.DataFrame(submission_rows)\n",
    "\n",
    "# Save submission_df to csv\n",
    "submission_df.to_csv('submission.csv', index=False)\n"
   ]
  },
  {
   "cell_type": "code",
   "execution_count": null,
   "id": "c9cb4a0b-9ae7-43ab-a389-11ff24f6fd10",
   "metadata": {},
   "outputs": [],
   "source": [
    "submission_df.describe()"
   ]
  }
 ],
 "metadata": {
  "kernelspec": {
   "display_name": "Python 3 (ipykernel)",
   "language": "python",
   "name": "python3"
  },
  "language_info": {
   "codemirror_mode": {
    "name": "ipython",
    "version": 3
   },
   "file_extension": ".py",
   "mimetype": "text/x-python",
   "name": "python",
   "nbconvert_exporter": "python",
   "pygments_lexer": "ipython3",
   "version": "3.10.15"
  }
 },
 "nbformat": 4,
 "nbformat_minor": 5
}
